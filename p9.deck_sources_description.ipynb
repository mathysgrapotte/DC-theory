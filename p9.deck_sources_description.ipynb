{
 "cells": [
  {
   "cell_type": "code",
   "execution_count": 2,
   "id": "161d7b20",
   "metadata": {},
   "outputs": [],
   "source": [
    "from bin.parser import *\n",
    "from bin.manabase_karsten_analysis import * "
   ]
  },
  {
   "cell_type": "code",
   "execution_count": 3,
   "id": "144eb151",
   "metadata": {},
   "outputs": [],
   "source": [
    "URL = \"https://www.moxfield.com/decks/zMJjaLbTs0ucYJvlGZD5hw\"\n",
    "deck = parse_URL(URL)\n",
    "decklist = make_dataset(deck)"
   ]
  },
  {
   "cell_type": "code",
   "execution_count": 10,
   "id": "1d13f3f1",
   "metadata": {},
   "outputs": [],
   "source": [
    "decklist.to_csv(\"temp_decks/temp_deck.csv\", index=False)"
   ]
  },
  {
   "cell_type": "code",
   "execution_count": 11,
   "id": "0cf14293",
   "metadata": {},
   "outputs": [],
   "source": [
    "deck = pd.read_csv(\"temp_decks/temp_deck.csv\")"
   ]
  },
  {
   "cell_type": "code",
   "execution_count": 12,
   "id": "b19056b6",
   "metadata": {},
   "outputs": [],
   "source": [
    "card_groups = deck.groupby(\"card_id\")"
   ]
  },
  {
   "cell_type": "code",
   "execution_count": 13,
   "id": "0a3577ee",
   "metadata": {},
   "outputs": [],
   "source": [
    "card_ids, mana = assess_mana_sources(card_groups, find_identity(deck))\n",
    "ms,lc = count_mana_sources(mana, find_identity(deck))\n",
    "meta = meta_deck(deck)\n",
    "meta.fill_costs()"
   ]
  },
  {
   "cell_type": "code",
   "execution_count": 16,
   "id": "f141c1c6",
   "metadata": {},
   "outputs": [
    {
     "data": {
      "text/plain": [
       "{'B': 31, 'R': 24, 'U': 30, 'W': 26}"
      ]
     },
     "execution_count": 16,
     "metadata": {},
     "output_type": "execute_result"
    }
   ],
   "source": [
    "ms"
   ]
  },
  {
   "cell_type": "code",
   "execution_count": 17,
   "id": "e2c00cf1",
   "metadata": {},
   "outputs": [
    {
     "data": {
      "text/plain": [
       "41"
      ]
     },
     "execution_count": 17,
     "metadata": {},
     "output_type": "execute_result"
    }
   ],
   "source": [
    "lc"
   ]
  },
  {
   "cell_type": "code",
   "execution_count": null,
   "id": "0b532596",
   "metadata": {},
   "outputs": [],
   "source": []
  }
 ],
 "metadata": {
  "kernelspec": {
   "display_name": "Python 3 (ipykernel)",
   "language": "python",
   "name": "python3"
  },
  "language_info": {
   "codemirror_mode": {
    "name": "ipython",
    "version": 3
   },
   "file_extension": ".py",
   "mimetype": "text/x-python",
   "name": "python",
   "nbconvert_exporter": "python",
   "pygments_lexer": "ipython3",
   "version": "3.10.4"
  }
 },
 "nbformat": 4,
 "nbformat_minor": 5
}
