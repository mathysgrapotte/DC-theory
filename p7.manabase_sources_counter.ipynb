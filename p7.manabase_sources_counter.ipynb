{
 "cells": [
  {
   "cell_type": "code",
   "execution_count": 6,
   "id": "d6208065",
   "metadata": {},
   "outputs": [],
   "source": [
    "import numpy as np \n",
    "import pandas as pd\n",
    "import re \n",
    "from ast import literal_eval"
   ]
  },
  {
   "cell_type": "code",
   "execution_count": 315,
   "id": "c9910e6e",
   "metadata": {},
   "outputs": [],
   "source": [
    "deck = pd.read_csv('parser_output/WLL.csv')"
   ]
  },
  {
   "cell_type": "code",
   "execution_count": 316,
   "id": "2d3959ce",
   "metadata": {},
   "outputs": [
    {
     "data": {
      "text/plain": [
       "0"
      ]
     },
     "execution_count": 316,
     "metadata": {},
     "output_type": "execute_result"
    }
   ],
   "source": [
    "len(literal_eval(deck[deck[\"name\"] == \"Arid Mesa\"][\"color_identity\"].iloc[0]))"
   ]
  },
  {
   "cell_type": "code",
   "execution_count": 317,
   "id": "c40e5c9d",
   "metadata": {},
   "outputs": [],
   "source": [
    "def find_identity(deck):\n",
    "    commanders = deck[deck[\"board\"]==\"commander\"]\n",
    "    identity = []\n",
    "    for i in range(len(commanders)):\n",
    "        identity += literal_eval(commanders['color_identity'].iloc[i])\n",
    "    return list(np.unique(identity))"
   ]
  },
  {
   "cell_type": "code",
   "execution_count": 318,
   "id": "78ea8c6f",
   "metadata": {},
   "outputs": [],
   "source": [
    "deck_identity = find_identity(deck)"
   ]
  },
  {
   "cell_type": "code",
   "execution_count": 319,
   "id": "3d2031ad",
   "metadata": {},
   "outputs": [
    {
     "data": {
      "text/plain": [
       "['B', 'R', 'U', 'W']"
      ]
     },
     "execution_count": 319,
     "metadata": {},
     "output_type": "execute_result"
    }
   ],
   "source": [
    "deck_identity"
   ]
  },
  {
   "cell_type": "code",
   "execution_count": 320,
   "id": "34a4dcea",
   "metadata": {},
   "outputs": [],
   "source": [
    "cards = deck.groupby(\"card_id\")"
   ]
  },
  {
   "cell_type": "code",
   "execution_count": 321,
   "id": "303077b9",
   "metadata": {},
   "outputs": [
    {
     "data": {
      "text/plain": [
       "101"
      ]
     },
     "execution_count": 321,
     "metadata": {},
     "output_type": "execute_result"
    }
   ],
   "source": [
    "len(cards)"
   ]
  },
  {
   "cell_type": "code",
   "execution_count": 322,
   "id": "6bee9827",
   "metadata": {},
   "outputs": [
    {
     "data": {
      "text/plain": [
       "True"
      ]
     },
     "execution_count": 322,
     "metadata": {},
     "output_type": "execute_result"
    }
   ],
   "source": [
    "np.unique([\"None\",\"None\"])[0] == 'None'"
   ]
  },
  {
   "cell_type": "code",
   "execution_count": 333,
   "id": "69152ea5",
   "metadata": {},
   "outputs": [],
   "source": [
    "card_ids = []\n",
    "mana = []\n",
    "for i in range(len(cards)):\n",
    "    temp_identity = []\n",
    "    group = cards.get_group(i)\n",
    "    not_land = True\n",
    "    for i in range(len(group)):\n",
    "        temp_name += group.iloc[i][\"name\"]\n",
    "        if \"Land\" in literal_eval(group.iloc[i][\"type\"]):\n",
    "            not_land = False\n",
    "            c_identity = literal_eval(group.iloc[i][\"color_identity\"])\n",
    "            if len(c_identity) > 0:\n",
    "                for c in c_identity:\n",
    "                    temp_identity.append(c)\n",
    "            else:\n",
    "                color = determine_source(group.iloc[i][\"text\"], deck_identity)\n",
    "                if color == \"Undefined\":\n",
    "                    temp_identity.append(color)\n",
    "                else:\n",
    "                    for c in color:\n",
    "                        temp_identity.append(c)\n",
    "            \n",
    "\n",
    "    if not_land:\n",
    "        temp_identity.append(\"Not a mana source\")\n",
    "    card_ids.append(group.iloc[0][\"card_id\"])\n",
    "    mana.append(''.join(list(np.unique(temp_identity))))"
   ]
  },
  {
   "cell_type": "code",
   "execution_count": 334,
   "id": "5a3fdd35",
   "metadata": {},
   "outputs": [
    {
     "data": {
      "text/plain": [
       "True"
      ]
     },
     "execution_count": 334,
     "metadata": {},
     "output_type": "execute_result"
    }
   ],
   "source": [
    "deck[\"is_dfc\"].iloc[0] == False"
   ]
  },
  {
   "cell_type": "code",
   "execution_count": 335,
   "id": "397089e8",
   "metadata": {},
   "outputs": [],
   "source": [
    "mana_sources = pd.DataFrame({\"mana\":mana, \"card_id\":card_ids})"
   ]
  },
  {
   "cell_type": "code",
   "execution_count": 336,
   "id": "361682ab",
   "metadata": {},
   "outputs": [
    {
     "data": {
      "text/html": [
       "<div>\n",
       "<style scoped>\n",
       "    .dataframe tbody tr th:only-of-type {\n",
       "        vertical-align: middle;\n",
       "    }\n",
       "\n",
       "    .dataframe tbody tr th {\n",
       "        vertical-align: top;\n",
       "    }\n",
       "\n",
       "    .dataframe thead th {\n",
       "        text-align: right;\n",
       "    }\n",
       "</style>\n",
       "<table border=\"1\" class=\"dataframe\">\n",
       "  <thead>\n",
       "    <tr style=\"text-align: right;\">\n",
       "      <th></th>\n",
       "      <th>mana</th>\n",
       "      <th>card_id</th>\n",
       "    </tr>\n",
       "  </thead>\n",
       "  <tbody>\n",
       "    <tr>\n",
       "      <th>0</th>\n",
       "      <td>Not a mana source</td>\n",
       "      <td>0</td>\n",
       "    </tr>\n",
       "    <tr>\n",
       "      <th>1</th>\n",
       "      <td>Not a mana source</td>\n",
       "      <td>1</td>\n",
       "    </tr>\n",
       "    <tr>\n",
       "      <th>2</th>\n",
       "      <td>Not a mana source</td>\n",
       "      <td>2</td>\n",
       "    </tr>\n",
       "    <tr>\n",
       "      <th>3</th>\n",
       "      <td>Not a mana source</td>\n",
       "      <td>3</td>\n",
       "    </tr>\n",
       "    <tr>\n",
       "      <th>4</th>\n",
       "      <td>Not a mana source</td>\n",
       "      <td>4</td>\n",
       "    </tr>\n",
       "    <tr>\n",
       "      <th>5</th>\n",
       "      <td>Not a mana source</td>\n",
       "      <td>5</td>\n",
       "    </tr>\n",
       "    <tr>\n",
       "      <th>6</th>\n",
       "      <td>Not a mana source</td>\n",
       "      <td>6</td>\n",
       "    </tr>\n",
       "    <tr>\n",
       "      <th>7</th>\n",
       "      <td>Not a mana source</td>\n",
       "      <td>7</td>\n",
       "    </tr>\n",
       "    <tr>\n",
       "      <th>8</th>\n",
       "      <td>Not a mana source</td>\n",
       "      <td>8</td>\n",
       "    </tr>\n",
       "    <tr>\n",
       "      <th>9</th>\n",
       "      <td>BW</td>\n",
       "      <td>9</td>\n",
       "    </tr>\n",
       "    <tr>\n",
       "      <th>10</th>\n",
       "      <td>Not a mana source</td>\n",
       "      <td>10</td>\n",
       "    </tr>\n",
       "    <tr>\n",
       "      <th>11</th>\n",
       "      <td>BW</td>\n",
       "      <td>11</td>\n",
       "    </tr>\n",
       "    <tr>\n",
       "      <th>12</th>\n",
       "      <td>UW</td>\n",
       "      <td>12</td>\n",
       "    </tr>\n",
       "    <tr>\n",
       "      <th>13</th>\n",
       "      <td>BR</td>\n",
       "      <td>13</td>\n",
       "    </tr>\n",
       "    <tr>\n",
       "      <th>14</th>\n",
       "      <td>BU</td>\n",
       "      <td>14</td>\n",
       "    </tr>\n",
       "    <tr>\n",
       "      <th>15</th>\n",
       "      <td>UW</td>\n",
       "      <td>15</td>\n",
       "    </tr>\n",
       "    <tr>\n",
       "      <th>16</th>\n",
       "      <td>BR</td>\n",
       "      <td>16</td>\n",
       "    </tr>\n",
       "    <tr>\n",
       "      <th>17</th>\n",
       "      <td>BU</td>\n",
       "      <td>17</td>\n",
       "    </tr>\n",
       "    <tr>\n",
       "      <th>18</th>\n",
       "      <td>BU</td>\n",
       "      <td>18</td>\n",
       "    </tr>\n",
       "    <tr>\n",
       "      <th>19</th>\n",
       "      <td>UW</td>\n",
       "      <td>19</td>\n",
       "    </tr>\n",
       "    <tr>\n",
       "      <th>20</th>\n",
       "      <td>UW</td>\n",
       "      <td>20</td>\n",
       "    </tr>\n",
       "    <tr>\n",
       "      <th>21</th>\n",
       "      <td>BU</td>\n",
       "      <td>21</td>\n",
       "    </tr>\n",
       "    <tr>\n",
       "      <th>22</th>\n",
       "      <td>BR</td>\n",
       "      <td>22</td>\n",
       "    </tr>\n",
       "    <tr>\n",
       "      <th>23</th>\n",
       "      <td>BRUW</td>\n",
       "      <td>23</td>\n",
       "    </tr>\n",
       "    <tr>\n",
       "      <th>24</th>\n",
       "      <td>BRUW</td>\n",
       "      <td>24</td>\n",
       "    </tr>\n",
       "    <tr>\n",
       "      <th>25</th>\n",
       "      <td>BRUW</td>\n",
       "      <td>25</td>\n",
       "    </tr>\n",
       "    <tr>\n",
       "      <th>26</th>\n",
       "      <td>BRUW</td>\n",
       "      <td>26</td>\n",
       "    </tr>\n",
       "    <tr>\n",
       "      <th>27</th>\n",
       "      <td>BRUW</td>\n",
       "      <td>27</td>\n",
       "    </tr>\n",
       "    <tr>\n",
       "      <th>28</th>\n",
       "      <td>BRUW</td>\n",
       "      <td>28</td>\n",
       "    </tr>\n",
       "    <tr>\n",
       "      <th>29</th>\n",
       "      <td>BRUW</td>\n",
       "      <td>29</td>\n",
       "    </tr>\n",
       "    <tr>\n",
       "      <th>30</th>\n",
       "      <td>BRUW</td>\n",
       "      <td>30</td>\n",
       "    </tr>\n",
       "    <tr>\n",
       "      <th>31</th>\n",
       "      <td>BRUW</td>\n",
       "      <td>31</td>\n",
       "    </tr>\n",
       "    <tr>\n",
       "      <th>32</th>\n",
       "      <td>BRUW</td>\n",
       "      <td>32</td>\n",
       "    </tr>\n",
       "    <tr>\n",
       "      <th>33</th>\n",
       "      <td>RU</td>\n",
       "      <td>33</td>\n",
       "    </tr>\n",
       "    <tr>\n",
       "      <th>34</th>\n",
       "      <td>BU</td>\n",
       "      <td>34</td>\n",
       "    </tr>\n",
       "    <tr>\n",
       "      <th>35</th>\n",
       "      <td>UW</td>\n",
       "      <td>35</td>\n",
       "    </tr>\n",
       "    <tr>\n",
       "      <th>36</th>\n",
       "      <td>BW</td>\n",
       "      <td>36</td>\n",
       "    </tr>\n",
       "    <tr>\n",
       "      <th>37</th>\n",
       "      <td>RW</td>\n",
       "      <td>37</td>\n",
       "    </tr>\n",
       "    <tr>\n",
       "      <th>38</th>\n",
       "      <td>BR</td>\n",
       "      <td>38</td>\n",
       "    </tr>\n",
       "    <tr>\n",
       "      <th>39</th>\n",
       "      <td>BRW</td>\n",
       "      <td>39</td>\n",
       "    </tr>\n",
       "    <tr>\n",
       "      <th>40</th>\n",
       "      <td>BRUW</td>\n",
       "      <td>40</td>\n",
       "    </tr>\n",
       "    <tr>\n",
       "      <th>41</th>\n",
       "      <td>Not a mana source</td>\n",
       "      <td>41</td>\n",
       "    </tr>\n",
       "    <tr>\n",
       "      <th>42</th>\n",
       "      <td>Not a mana source</td>\n",
       "      <td>42</td>\n",
       "    </tr>\n",
       "    <tr>\n",
       "      <th>43</th>\n",
       "      <td>Not a mana source</td>\n",
       "      <td>43</td>\n",
       "    </tr>\n",
       "    <tr>\n",
       "      <th>44</th>\n",
       "      <td>BUW</td>\n",
       "      <td>44</td>\n",
       "    </tr>\n",
       "    <tr>\n",
       "      <th>45</th>\n",
       "      <td>BRU</td>\n",
       "      <td>45</td>\n",
       "    </tr>\n",
       "    <tr>\n",
       "      <th>46</th>\n",
       "      <td>Not a mana source</td>\n",
       "      <td>46</td>\n",
       "    </tr>\n",
       "    <tr>\n",
       "      <th>47</th>\n",
       "      <td>Not a mana source</td>\n",
       "      <td>47</td>\n",
       "    </tr>\n",
       "    <tr>\n",
       "      <th>48</th>\n",
       "      <td>Not a mana source</td>\n",
       "      <td>48</td>\n",
       "    </tr>\n",
       "    <tr>\n",
       "      <th>49</th>\n",
       "      <td>Not a mana source</td>\n",
       "      <td>49</td>\n",
       "    </tr>\n",
       "  </tbody>\n",
       "</table>\n",
       "</div>"
      ],
      "text/plain": [
       "                 mana  card_id\n",
       "0   Not a mana source        0\n",
       "1   Not a mana source        1\n",
       "2   Not a mana source        2\n",
       "3   Not a mana source        3\n",
       "4   Not a mana source        4\n",
       "5   Not a mana source        5\n",
       "6   Not a mana source        6\n",
       "7   Not a mana source        7\n",
       "8   Not a mana source        8\n",
       "9                  BW        9\n",
       "10  Not a mana source       10\n",
       "11                 BW       11\n",
       "12                 UW       12\n",
       "13                 BR       13\n",
       "14                 BU       14\n",
       "15                 UW       15\n",
       "16                 BR       16\n",
       "17                 BU       17\n",
       "18                 BU       18\n",
       "19                 UW       19\n",
       "20                 UW       20\n",
       "21                 BU       21\n",
       "22                 BR       22\n",
       "23               BRUW       23\n",
       "24               BRUW       24\n",
       "25               BRUW       25\n",
       "26               BRUW       26\n",
       "27               BRUW       27\n",
       "28               BRUW       28\n",
       "29               BRUW       29\n",
       "30               BRUW       30\n",
       "31               BRUW       31\n",
       "32               BRUW       32\n",
       "33                 RU       33\n",
       "34                 BU       34\n",
       "35                 UW       35\n",
       "36                 BW       36\n",
       "37                 RW       37\n",
       "38                 BR       38\n",
       "39                BRW       39\n",
       "40               BRUW       40\n",
       "41  Not a mana source       41\n",
       "42  Not a mana source       42\n",
       "43  Not a mana source       43\n",
       "44                BUW       44\n",
       "45                BRU       45\n",
       "46  Not a mana source       46\n",
       "47  Not a mana source       47\n",
       "48  Not a mana source       48\n",
       "49  Not a mana source       49"
      ]
     },
     "execution_count": 336,
     "metadata": {},
     "output_type": "execute_result"
    }
   ],
   "source": [
    "mana_sources[0:50]"
   ]
  },
  {
   "cell_type": "code",
   "execution_count": 337,
   "id": "7733b13f",
   "metadata": {},
   "outputs": [
    {
     "data": {
      "text/plain": [
       "101"
      ]
     },
     "execution_count": 337,
     "metadata": {},
     "output_type": "execute_result"
    }
   ],
   "source": [
    "len(mana)"
   ]
  },
  {
   "cell_type": "code",
   "execution_count": 338,
   "id": "abc5b596",
   "metadata": {},
   "outputs": [],
   "source": [
    "deck_with_mana_sources = deck.merge(mana_sources, on=\"card_id\")"
   ]
  },
  {
   "cell_type": "code",
   "execution_count": 339,
   "id": "35eb3c54",
   "metadata": {},
   "outputs": [],
   "source": [
    "undefined_sources = deck_with_mana_sources[deck_with_mana_sources[\"mana\"] == \"Undefined\"]"
   ]
  },
  {
   "cell_type": "code",
   "execution_count": 340,
   "id": "c49c0bb7",
   "metadata": {},
   "outputs": [
    {
     "data": {
      "text/html": [
       "<div>\n",
       "<style scoped>\n",
       "    .dataframe tbody tr th:only-of-type {\n",
       "        vertical-align: middle;\n",
       "    }\n",
       "\n",
       "    .dataframe tbody tr th {\n",
       "        vertical-align: top;\n",
       "    }\n",
       "\n",
       "    .dataframe thead th {\n",
       "        text-align: right;\n",
       "    }\n",
       "</style>\n",
       "<table border=\"1\" class=\"dataframe\">\n",
       "  <thead>\n",
       "    <tr style=\"text-align: right;\">\n",
       "      <th></th>\n",
       "      <th>name</th>\n",
       "      <th>cmc</th>\n",
       "      <th>text</th>\n",
       "      <th>mana_cost</th>\n",
       "      <th>card_id</th>\n",
       "      <th>is_dfc</th>\n",
       "      <th>color_identity</th>\n",
       "      <th>board</th>\n",
       "      <th>power</th>\n",
       "      <th>toughness</th>\n",
       "      <th>supertype</th>\n",
       "      <th>type</th>\n",
       "      <th>subtype</th>\n",
       "      <th>mana</th>\n",
       "    </tr>\n",
       "  </thead>\n",
       "  <tbody>\n",
       "  </tbody>\n",
       "</table>\n",
       "</div>"
      ],
      "text/plain": [
       "Empty DataFrame\n",
       "Columns: [name, cmc, text, mana_cost, card_id, is_dfc, color_identity, board, power, toughness, supertype, type, subtype, mana]\n",
       "Index: []"
      ]
     },
     "execution_count": 340,
     "metadata": {},
     "output_type": "execute_result"
    }
   ],
   "source": [
    "undefined_sources"
   ]
  },
  {
   "cell_type": "code",
   "execution_count": 342,
   "id": "2c0eb220",
   "metadata": {},
   "outputs": [
    {
     "data": {
      "text/html": [
       "<div>\n",
       "<style scoped>\n",
       "    .dataframe tbody tr th:only-of-type {\n",
       "        vertical-align: middle;\n",
       "    }\n",
       "\n",
       "    .dataframe tbody tr th {\n",
       "        vertical-align: top;\n",
       "    }\n",
       "\n",
       "    .dataframe thead th {\n",
       "        text-align: right;\n",
       "    }\n",
       "</style>\n",
       "<table border=\"1\" class=\"dataframe\">\n",
       "  <thead>\n",
       "    <tr style=\"text-align: right;\">\n",
       "      <th></th>\n",
       "      <th>name</th>\n",
       "      <th>cmc</th>\n",
       "      <th>text</th>\n",
       "      <th>mana_cost</th>\n",
       "      <th>card_id</th>\n",
       "      <th>is_dfc</th>\n",
       "      <th>color_identity</th>\n",
       "      <th>board</th>\n",
       "      <th>power</th>\n",
       "      <th>toughness</th>\n",
       "      <th>supertype</th>\n",
       "      <th>type</th>\n",
       "      <th>subtype</th>\n",
       "      <th>mana</th>\n",
       "    </tr>\n",
       "  </thead>\n",
       "  <tbody>\n",
       "    <tr>\n",
       "      <th>52</th>\n",
       "      <td>Gitaxian Probe</td>\n",
       "      <td>1.0</td>\n",
       "      <td>({U/P} can be paid with either {U} or 2 life.)...</td>\n",
       "      <td>{U/P}</td>\n",
       "      <td>52</td>\n",
       "      <td>False</td>\n",
       "      <td>['U']</td>\n",
       "      <td>mainboard</td>\n",
       "      <td>None</td>\n",
       "      <td>None</td>\n",
       "      <td>[]</td>\n",
       "      <td>['Sorcery']</td>\n",
       "      <td>[]</td>\n",
       "      <td>Not a mana source</td>\n",
       "    </tr>\n",
       "  </tbody>\n",
       "</table>\n",
       "</div>"
      ],
      "text/plain": [
       "              name  cmc                                               text  \\\n",
       "52  Gitaxian Probe  1.0  ({U/P} can be paid with either {U} or 2 life.)...   \n",
       "\n",
       "   mana_cost  card_id  is_dfc color_identity      board power toughness  \\\n",
       "52     {U/P}       52   False          ['U']  mainboard  None      None   \n",
       "\n",
       "   supertype         type subtype               mana  \n",
       "52        []  ['Sorcery']      []  Not a mana source  "
      ]
     },
     "execution_count": 342,
     "metadata": {},
     "output_type": "execute_result"
    }
   ],
   "source": [
    "deck_with_mana_sources[deck_with_mana_sources[\"name\"]==\"Gitaxian Probe\"]"
   ]
  },
  {
   "cell_type": "code",
   "execution_count": 223,
   "id": "11bccec7",
   "metadata": {},
   "outputs": [
    {
     "data": {
      "text/plain": [
       "'{T}, Sacrifice Fabled Passage: Search your library for a basic land card, put it onto the battlefield tapped, then shuffle. Then if you control four or more lands, untap that land.'"
      ]
     },
     "execution_count": 223,
     "metadata": {},
     "output_type": "execute_result"
    }
   ],
   "source": [
    "undefined_sources[undefined_sources[\"name\"]==\"Fabled Passage\"].iloc[0][\"text\"]"
   ]
  },
  {
   "cell_type": "code",
   "execution_count": 331,
   "id": "0a349294",
   "metadata": {},
   "outputs": [],
   "source": [
    "fetch_regex = r\"^{T}, Pay 1 life, Sacrifice .*: Search your library for a.* card, put it onto the battlefield, then shuffle.$\"\n",
    "wubrg_regex = r\"Add one mana of any color\"\n",
    "urborg_regex = r\"Each land is a Swamp in addition\"\n",
    "slow_fetch_regex = r\"Search your library for a basic land card, put it onto the battlefield tapped\"\n",
    "colorless_regex = r\"{T}: Add {C}\"\n",
    "pool_regex = r\"{T}: Add one mana of any type\""
   ]
  },
  {
   "cell_type": "code",
   "execution_count": 299,
   "id": "f0fe9b97",
   "metadata": {},
   "outputs": [],
   "source": [
    "match = re.findall(wubrg_regex, wubrg_text)"
   ]
  },
  {
   "cell_type": "code",
   "execution_count": 300,
   "id": "cbfa3b30",
   "metadata": {},
   "outputs": [
    {
     "data": {
      "text/plain": [
       "['Add one mana of any color']"
      ]
     },
     "execution_count": 300,
     "metadata": {},
     "output_type": "execute_result"
    }
   ],
   "source": [
    "match"
   ]
  },
  {
   "cell_type": "code",
   "execution_count": 301,
   "id": "25ca6d86",
   "metadata": {},
   "outputs": [],
   "source": [
    "urborg_text =  undefined_sources[undefined_sources[\"name\"]==\"Urza's Saga\"].iloc[0][\"text\"]"
   ]
  },
  {
   "cell_type": "code",
   "execution_count": 302,
   "id": "b8862e58",
   "metadata": {},
   "outputs": [
    {
     "data": {
      "text/plain": [
       "'(As this Saga enters and after your draw step, add a lore counter. Sacrifice after III.)\\nI — Urza\\'s Saga gains \"{T}: Add {C}.\"\\nII — Urza\\'s Saga gains \"{2}, {T}: Create a 0/0 colorless Construct artifact creature token with \\'This creature gets +1/+1 for each artifact you control.\\'\"\\nIII — Search your library for an artifact card with mana cost {0} or {1}, put it onto the battlefield, then shuffle.'"
      ]
     },
     "execution_count": 302,
     "metadata": {},
     "output_type": "execute_result"
    }
   ],
   "source": [
    "urborg_text"
   ]
  },
  {
   "cell_type": "code",
   "execution_count": 303,
   "id": "6dd43d19",
   "metadata": {},
   "outputs": [
    {
     "data": {
      "text/plain": [
       "['{T}: Add {C}']"
      ]
     },
     "execution_count": 303,
     "metadata": {},
     "output_type": "execute_result"
    }
   ],
   "source": [
    "re.findall(colorless_regex, urborg_text)"
   ]
  },
  {
   "cell_type": "code",
   "execution_count": 332,
   "id": "45a2e83b",
   "metadata": {},
   "outputs": [],
   "source": [
    "def determine_source(oracle_text, cmd_identity):\n",
    "    \n",
    "    if re.findall(fetch_regex, oracle_text):\n",
    "        color = cmd_identity\n",
    "    elif re.findall(wubrg_regex, oracle_text):\n",
    "        color = cmd_identity\n",
    "    elif re.findall(slow_fetch_regex, oracle_text):\n",
    "        color = cmd_identity\n",
    "    elif re.findall(urborg_regex, oracle_text):\n",
    "        color = [\"B\"]\n",
    "    elif re.findall(colorless_regex, oracle_text):\n",
    "        color = [\"C\"]\n",
    "    elif re.findall(pool_regex, oracle_text):\n",
    "        color = cmd_identity\n",
    "    else:\n",
    "        color = \"Undefined\"\n",
    "    \n",
    "    return color\n",
    "        "
   ]
  },
  {
   "cell_type": "code",
   "execution_count": 152,
   "id": "6df1d0e8",
   "metadata": {},
   "outputs": [
    {
     "data": {
      "text/plain": [
       "['B', 'R']"
      ]
     },
     "execution_count": 152,
     "metadata": {},
     "output_type": "execute_result"
    }
   ],
   "source": [
    "determine_source(fetch_text, deck_identity)"
   ]
  },
  {
   "cell_type": "code",
   "execution_count": null,
   "id": "4d2071ea",
   "metadata": {},
   "outputs": [],
   "source": []
  }
 ],
 "metadata": {
  "kernelspec": {
   "display_name": "Python 3 (ipykernel)",
   "language": "python",
   "name": "python3"
  },
  "language_info": {
   "codemirror_mode": {
    "name": "ipython",
    "version": 3
   },
   "file_extension": ".py",
   "mimetype": "text/x-python",
   "name": "python",
   "nbconvert_exporter": "python",
   "pygments_lexer": "ipython3",
   "version": "3.9.12"
  }
 },
 "nbformat": 4,
 "nbformat_minor": 5
}
